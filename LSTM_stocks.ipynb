{
  "nbformat": 4,
  "nbformat_minor": 0,
  "metadata": {
    "colab": {
      "name": "LSTM stocks.ipynb",
      "provenance": [],
      "collapsed_sections": [],
      "toc_visible": true
    },
    "kernelspec": {
      "display_name": "Python 3",
      "language": "python",
      "name": "python3"
    },
    "language_info": {
      "codemirror_mode": {
        "name": "ipython",
        "version": 3
      },
      "file_extension": ".py",
      "mimetype": "text/x-python",
      "name": "python",
      "nbconvert_exporter": "python",
      "pygments_lexer": "ipython3",
      "version": "3.7.3"
    }
  },
  "cells": [
    {
      "cell_type": "markdown",
      "metadata": {
        "id": "K3Zguu2HrRuL"
      },
      "source": [
        "# Stock market prediction using LSTM \n",
        "\n",
        "The LSTM structure is the following where we have:\n",
        "\n",
        "$x_t$ = We recieve the input for the cell\n",
        "\n",
        "$c_{t-1}$ = Previous cell state\n",
        "\n",
        "$h_{t-1}$ = Output of the previous cell\n",
        "\n",
        "![LSTM](https://miro.medium.com/max/662/1*mcHP77YF63SuqUGAIiBBsA.jpeg)\n",
        "\n",
        "**Why LSTM?**\n",
        "\n",
        "The stock market is the most common example for a time serie because it is 1D data, LSTM is the best of the three most common time series analysis using Deep Learning techinques (GRU and simple RNN). As the stock market involcres money we want a robust sytem. \n",
        "\n",
        "\n"
      ]
    },
    {
      "cell_type": "markdown",
      "source": [
        "#Install and import \n",
        "\n",
        "In this section we are going to install and import all the necessry tools for the project"
      ],
      "metadata": {
        "id": "LkzQnWmhVVF-"
      }
    },
    {
      "cell_type": "markdown",
      "source": [
        "##Lets install some dependencies"
      ],
      "metadata": {
        "id": "IbV6A5IwVn1D"
      }
    },
    {
      "cell_type": "code",
      "metadata": {
        "id": "jO24_K8x1oF5",
        "colab": {
          "base_uri": "https://localhost:8080/"
        },
        "outputId": "bc58a90d-8b2d-449d-fc2b-4e1d3e3153d0"
      },
      "source": [
        "#We are going to use the Yahoo Finance library to extract data from the stock market \n",
        "pip install yfinance "
      ],
      "execution_count": 1,
      "outputs": [
        {
          "output_type": "stream",
          "name": "stdout",
          "text": [
            "Collecting yfinance\n",
            "  Downloading yfinance-0.1.70-py2.py3-none-any.whl (26 kB)\n",
            "Requirement already satisfied: numpy>=1.15 in /usr/local/lib/python3.7/dist-packages (from yfinance) (1.21.5)\n",
            "Requirement already satisfied: multitasking>=0.0.7 in /usr/local/lib/python3.7/dist-packages (from yfinance) (0.0.10)\n",
            "Requirement already satisfied: pandas>=0.24.0 in /usr/local/lib/python3.7/dist-packages (from yfinance) (1.3.5)\n",
            "Collecting requests>=2.26\n",
            "  Downloading requests-2.27.1-py2.py3-none-any.whl (63 kB)\n",
            "\u001b[K     |████████████████████████████████| 63 kB 2.2 MB/s \n",
            "\u001b[?25hCollecting lxml>=4.5.1\n",
            "  Downloading lxml-4.8.0-cp37-cp37m-manylinux_2_17_x86_64.manylinux2014_x86_64.manylinux_2_24_x86_64.whl (6.4 MB)\n",
            "\u001b[K     |████████████████████████████████| 6.4 MB 37.8 MB/s \n",
            "\u001b[?25hRequirement already satisfied: pytz>=2017.3 in /usr/local/lib/python3.7/dist-packages (from pandas>=0.24.0->yfinance) (2018.9)\n",
            "Requirement already satisfied: python-dateutil>=2.7.3 in /usr/local/lib/python3.7/dist-packages (from pandas>=0.24.0->yfinance) (2.8.2)\n",
            "Requirement already satisfied: six>=1.5 in /usr/local/lib/python3.7/dist-packages (from python-dateutil>=2.7.3->pandas>=0.24.0->yfinance) (1.15.0)\n",
            "Requirement already satisfied: charset-normalizer~=2.0.0 in /usr/local/lib/python3.7/dist-packages (from requests>=2.26->yfinance) (2.0.12)\n",
            "Requirement already satisfied: idna<4,>=2.5 in /usr/local/lib/python3.7/dist-packages (from requests>=2.26->yfinance) (2.10)\n",
            "Requirement already satisfied: certifi>=2017.4.17 in /usr/local/lib/python3.7/dist-packages (from requests>=2.26->yfinance) (2021.10.8)\n",
            "Requirement already satisfied: urllib3<1.27,>=1.21.1 in /usr/local/lib/python3.7/dist-packages (from requests>=2.26->yfinance) (1.24.3)\n",
            "Installing collected packages: requests, lxml, yfinance\n",
            "  Attempting uninstall: requests\n",
            "    Found existing installation: requests 2.23.0\n",
            "    Uninstalling requests-2.23.0:\n",
            "      Successfully uninstalled requests-2.23.0\n",
            "  Attempting uninstall: lxml\n",
            "    Found existing installation: lxml 4.2.6\n",
            "    Uninstalling lxml-4.2.6:\n",
            "      Successfully uninstalled lxml-4.2.6\n",
            "\u001b[31mERROR: pip's dependency resolver does not currently take into account all the packages that are installed. This behaviour is the source of the following dependency conflicts.\n",
            "google-colab 1.0.0 requires requests~=2.23.0, but you have requests 2.27.1 which is incompatible.\n",
            "datascience 0.10.6 requires folium==0.2.1, but you have folium 0.8.3 which is incompatible.\u001b[0m\n",
            "Successfully installed lxml-4.8.0 requests-2.27.1 yfinance-0.1.70\n"
          ]
        }
      ]
    },
    {
      "cell_type": "markdown",
      "source": [
        "##Import some libraries\n",
        "\n",
        "We will import some libraries to crack the code"
      ],
      "metadata": {
        "id": "lGaVD1zpVt7h"
      }
    },
    {
      "cell_type": "code",
      "metadata": {
        "id": "vFiyorX1rRuP"
      },
      "source": [
        "#Pandas for reading and manipulating some data\n",
        "import pandas as pd\n",
        "import pandas_datareader as pdr\n",
        "\n",
        "#Yahoo Finance to extract stock market data\n",
        "import yfinance as yf\n",
        "\n",
        "#Numpy as vector, tensor and matrix manipulation\n",
        "import numpy as np\n",
        "\n",
        "#Sklearn, we will use some tools from here \n",
        "from sklearn.preprocessing import MinMaxScaler\n",
        "from sklearn.model_selection import train_test_split\n",
        "from sklearn.metrics import mean_squared_error\n",
        "\n",
        "#Tensorflow and keras for creating the architecture\n",
        "from tensorflow.keras.models import Sequential\n",
        "from tensorflow.keras.layers import Dense\n",
        "from tensorflow.keras.layers import LSTM\n",
        "\n",
        "#Math because is useful for some operations\n",
        "import math\n",
        "\n",
        "#Matplotlib for plotting beautiful graphs\n",
        "import matplotlib.pyplot as plt"
      ],
      "execution_count": 17,
      "outputs": []
    },
    {
      "cell_type": "markdown",
      "source": [
        "##Lets create some useful functions "
      ],
      "metadata": {
        "id": "st81NWL2fXZO"
      }
    },
    {
      "cell_type": "code",
      "source": [
        "# Convert an array of values into a dataset matrix\n",
        "def create_dataset(dataset, time_step=1):\n",
        "\tdataX, dataY = [], []\n",
        "\tfor i in range(len(dataset)-time_step-1):\n",
        "\t\ta = dataset[i:(i+time_step), 0]   \n",
        "\t\tdataX.append(a)\n",
        "\t\tdataY.append(dataset[i + time_step, 0])\n",
        "\treturn np.array(dataX), np.array(dataY)"
      ],
      "metadata": {
        "id": "WqPu6Apzfblo"
      },
      "execution_count": 35,
      "outputs": []
    },
    {
      "cell_type": "markdown",
      "source": [
        "#Lets observe the data\n",
        "\n",
        "We will see some graphics that show us the stock market of FAANGs\n"
      ],
      "metadata": {
        "id": "12rtBR44XPjd"
      }
    },
    {
      "cell_type": "code",
      "source": [
        "#Define variables\n",
        "period = \"1mo\"\n",
        "interval = \"1d\"\n",
        "start = \"2000-01-01\" \n",
        "end=\"2021-01-01\"\n",
        "\n",
        "#Tickers \n",
        "tickers = yf.Ticker('GOOGL')\n",
        "\n",
        "hist = tickers.history(period,interval,start,end)\n",
        "df = pd.DataFrame(hist)\n",
        "df.describe()"
      ],
      "metadata": {
        "colab": {
          "base_uri": "https://localhost:8080/",
          "height": 300
        },
        "id": "NaKP69fOXPFc",
        "outputId": "734d9596-6b37-4dee-af05-adbeae9f7551"
      },
      "execution_count": 19,
      "outputs": [
        {
          "output_type": "execute_result",
          "data": {
            "text/html": [
              "\n",
              "  <div id=\"df-02db8fbf-bdc9-421e-b8a0-665b4713c337\">\n",
              "    <div class=\"colab-df-container\">\n",
              "      <div>\n",
              "<style scoped>\n",
              "    .dataframe tbody tr th:only-of-type {\n",
              "        vertical-align: middle;\n",
              "    }\n",
              "\n",
              "    .dataframe tbody tr th {\n",
              "        vertical-align: top;\n",
              "    }\n",
              "\n",
              "    .dataframe thead th {\n",
              "        text-align: right;\n",
              "    }\n",
              "</style>\n",
              "<table border=\"1\" class=\"dataframe\">\n",
              "  <thead>\n",
              "    <tr style=\"text-align: right;\">\n",
              "      <th></th>\n",
              "      <th>Open</th>\n",
              "      <th>High</th>\n",
              "      <th>Low</th>\n",
              "      <th>Close</th>\n",
              "      <th>Volume</th>\n",
              "      <th>Dividends</th>\n",
              "      <th>Stock Splits</th>\n",
              "    </tr>\n",
              "  </thead>\n",
              "  <tbody>\n",
              "    <tr>\n",
              "      <th>count</th>\n",
              "      <td>4122.000000</td>\n",
              "      <td>4122.000000</td>\n",
              "      <td>4122.000000</td>\n",
              "      <td>4122.000000</td>\n",
              "      <td>4.122000e+03</td>\n",
              "      <td>4122.0</td>\n",
              "      <td>4122.000000</td>\n",
              "    </tr>\n",
              "    <tr>\n",
              "      <th>mean</th>\n",
              "      <td>555.729261</td>\n",
              "      <td>561.023230</td>\n",
              "      <td>550.156517</td>\n",
              "      <td>555.732233</td>\n",
              "      <td>6.807283e+06</td>\n",
              "      <td>0.0</td>\n",
              "      <td>0.000485</td>\n",
              "    </tr>\n",
              "    <tr>\n",
              "      <th>std</th>\n",
              "      <td>409.554073</td>\n",
              "      <td>413.584294</td>\n",
              "      <td>405.677153</td>\n",
              "      <td>409.819561</td>\n",
              "      <td>7.852185e+06</td>\n",
              "      <td>0.0</td>\n",
              "      <td>0.031120</td>\n",
              "    </tr>\n",
              "    <tr>\n",
              "      <th>min</th>\n",
              "      <td>49.644646</td>\n",
              "      <td>50.920921</td>\n",
              "      <td>48.028027</td>\n",
              "      <td>50.055054</td>\n",
              "      <td>4.656000e+05</td>\n",
              "      <td>0.0</td>\n",
              "      <td>0.000000</td>\n",
              "    </tr>\n",
              "    <tr>\n",
              "      <th>25%</th>\n",
              "      <td>242.197193</td>\n",
              "      <td>245.132629</td>\n",
              "      <td>239.959961</td>\n",
              "      <td>242.446198</td>\n",
              "      <td>1.806550e+06</td>\n",
              "      <td>0.0</td>\n",
              "      <td>0.000000</td>\n",
              "    </tr>\n",
              "    <tr>\n",
              "      <th>50%</th>\n",
              "      <td>352.960449</td>\n",
              "      <td>356.611603</td>\n",
              "      <td>348.936432</td>\n",
              "      <td>351.659149</td>\n",
              "      <td>4.108288e+06</td>\n",
              "      <td>0.0</td>\n",
              "      <td>0.000000</td>\n",
              "    </tr>\n",
              "    <tr>\n",
              "      <th>75%</th>\n",
              "      <td>809.235016</td>\n",
              "      <td>813.845001</td>\n",
              "      <td>804.522522</td>\n",
              "      <td>809.652496</td>\n",
              "      <td>8.624417e+06</td>\n",
              "      <td>0.0</td>\n",
              "      <td>0.000000</td>\n",
              "    </tr>\n",
              "    <tr>\n",
              "      <th>max</th>\n",
              "      <td>1820.540039</td>\n",
              "      <td>1843.829956</td>\n",
              "      <td>1817.000000</td>\n",
              "      <td>1824.969971</td>\n",
              "      <td>8.215117e+07</td>\n",
              "      <td>0.0</td>\n",
              "      <td>1.998000</td>\n",
              "    </tr>\n",
              "  </tbody>\n",
              "</table>\n",
              "</div>\n",
              "      <button class=\"colab-df-convert\" onclick=\"convertToInteractive('df-02db8fbf-bdc9-421e-b8a0-665b4713c337')\"\n",
              "              title=\"Convert this dataframe to an interactive table.\"\n",
              "              style=\"display:none;\">\n",
              "        \n",
              "  <svg xmlns=\"http://www.w3.org/2000/svg\" height=\"24px\"viewBox=\"0 0 24 24\"\n",
              "       width=\"24px\">\n",
              "    <path d=\"M0 0h24v24H0V0z\" fill=\"none\"/>\n",
              "    <path d=\"M18.56 5.44l.94 2.06.94-2.06 2.06-.94-2.06-.94-.94-2.06-.94 2.06-2.06.94zm-11 1L8.5 8.5l.94-2.06 2.06-.94-2.06-.94L8.5 2.5l-.94 2.06-2.06.94zm10 10l.94 2.06.94-2.06 2.06-.94-2.06-.94-.94-2.06-.94 2.06-2.06.94z\"/><path d=\"M17.41 7.96l-1.37-1.37c-.4-.4-.92-.59-1.43-.59-.52 0-1.04.2-1.43.59L10.3 9.45l-7.72 7.72c-.78.78-.78 2.05 0 2.83L4 21.41c.39.39.9.59 1.41.59.51 0 1.02-.2 1.41-.59l7.78-7.78 2.81-2.81c.8-.78.8-2.07 0-2.86zM5.41 20L4 18.59l7.72-7.72 1.47 1.35L5.41 20z\"/>\n",
              "  </svg>\n",
              "      </button>\n",
              "      \n",
              "  <style>\n",
              "    .colab-df-container {\n",
              "      display:flex;\n",
              "      flex-wrap:wrap;\n",
              "      gap: 12px;\n",
              "    }\n",
              "\n",
              "    .colab-df-convert {\n",
              "      background-color: #E8F0FE;\n",
              "      border: none;\n",
              "      border-radius: 50%;\n",
              "      cursor: pointer;\n",
              "      display: none;\n",
              "      fill: #1967D2;\n",
              "      height: 32px;\n",
              "      padding: 0 0 0 0;\n",
              "      width: 32px;\n",
              "    }\n",
              "\n",
              "    .colab-df-convert:hover {\n",
              "      background-color: #E2EBFA;\n",
              "      box-shadow: 0px 1px 2px rgba(60, 64, 67, 0.3), 0px 1px 3px 1px rgba(60, 64, 67, 0.15);\n",
              "      fill: #174EA6;\n",
              "    }\n",
              "\n",
              "    [theme=dark] .colab-df-convert {\n",
              "      background-color: #3B4455;\n",
              "      fill: #D2E3FC;\n",
              "    }\n",
              "\n",
              "    [theme=dark] .colab-df-convert:hover {\n",
              "      background-color: #434B5C;\n",
              "      box-shadow: 0px 1px 3px 1px rgba(0, 0, 0, 0.15);\n",
              "      filter: drop-shadow(0px 1px 2px rgba(0, 0, 0, 0.3));\n",
              "      fill: #FFFFFF;\n",
              "    }\n",
              "  </style>\n",
              "\n",
              "      <script>\n",
              "        const buttonEl =\n",
              "          document.querySelector('#df-02db8fbf-bdc9-421e-b8a0-665b4713c337 button.colab-df-convert');\n",
              "        buttonEl.style.display =\n",
              "          google.colab.kernel.accessAllowed ? 'block' : 'none';\n",
              "\n",
              "        async function convertToInteractive(key) {\n",
              "          const element = document.querySelector('#df-02db8fbf-bdc9-421e-b8a0-665b4713c337');\n",
              "          const dataTable =\n",
              "            await google.colab.kernel.invokeFunction('convertToInteractive',\n",
              "                                                     [key], {});\n",
              "          if (!dataTable) return;\n",
              "\n",
              "          const docLinkHtml = 'Like what you see? Visit the ' +\n",
              "            '<a target=\"_blank\" href=https://colab.research.google.com/notebooks/data_table.ipynb>data table notebook</a>'\n",
              "            + ' to learn more about interactive tables.';\n",
              "          element.innerHTML = '';\n",
              "          dataTable['output_type'] = 'display_data';\n",
              "          await google.colab.output.renderOutput(dataTable, element);\n",
              "          const docLink = document.createElement('div');\n",
              "          docLink.innerHTML = docLinkHtml;\n",
              "          element.appendChild(docLink);\n",
              "        }\n",
              "      </script>\n",
              "    </div>\n",
              "  </div>\n",
              "  "
            ],
            "text/plain": [
              "              Open         High  ...  Dividends  Stock Splits\n",
              "count  4122.000000  4122.000000  ...     4122.0   4122.000000\n",
              "mean    555.729261   561.023230  ...        0.0      0.000485\n",
              "std     409.554073   413.584294  ...        0.0      0.031120\n",
              "min      49.644646    50.920921  ...        0.0      0.000000\n",
              "25%     242.197193   245.132629  ...        0.0      0.000000\n",
              "50%     352.960449   356.611603  ...        0.0      0.000000\n",
              "75%     809.235016   813.845001  ...        0.0      0.000000\n",
              "max    1820.540039  1843.829956  ...        0.0      1.998000\n",
              "\n",
              "[8 rows x 7 columns]"
            ]
          },
          "metadata": {},
          "execution_count": 19
        }
      ]
    },
    {
      "cell_type": "markdown",
      "source": [
        "We are going to use the 'Close' values because it is the most used in financial markets  "
      ],
      "metadata": {
        "id": "kqkUkDYTYQYI"
      }
    },
    {
      "cell_type": "code",
      "metadata": {
        "id": "1wetqIWprRud",
        "colab": {
          "base_uri": "https://localhost:8080/"
        },
        "outputId": "bfe8c4f7-b50b-4cf6-9a0b-92ab882d6623"
      },
      "source": [
        "stock_price = df.reset_index()['Close']\n",
        "stock_price"
      ],
      "execution_count": 21,
      "outputs": [
        {
          "output_type": "execute_result",
          "data": {
            "text/plain": [
              "0         50.220219\n",
              "1         54.209209\n",
              "2         54.754753\n",
              "3         52.487488\n",
              "4         53.053055\n",
              "           ...     \n",
              "4117    1734.160034\n",
              "4118    1773.959961\n",
              "4119    1757.760010\n",
              "4120    1736.250000\n",
              "4121    1752.640015\n",
              "Name: Close, Length: 4122, dtype: float64"
            ]
          },
          "metadata": {},
          "execution_count": 21
        }
      ]
    },
    {
      "cell_type": "markdown",
      "metadata": {
        "id": "gBqH0XngzpIj"
      },
      "source": [
        "Lets visualize to see how everything is going on"
      ]
    },
    {
      "cell_type": "code",
      "metadata": {
        "colab": {
          "base_uri": "https://localhost:8080/",
          "height": 409
        },
        "id": "-WPdSGiArRun",
        "outputId": "7da78099-88a2-46e4-ce8a-1ebd5fd8fe8b"
      },
      "source": [
        "plt.figure(figsize=(12,6))\n",
        "plt.plot(stock_price, label = \"Close Value\")\n",
        "plt.title(\"Google stock price\", fontsize = 16)\n",
        "plt.ylabel('$', fontsize=13)\n",
        "plt.xlabel('Time', fontsize=13)\n",
        "plt.legend()\n",
        "plt.show()"
      ],
      "execution_count": 24,
      "outputs": [
        {
          "output_type": "display_data",
          "data": {
            "image/png": "[encoded data removed]",
            "text/plain": [
              "<Figure size 864x432 with 1 Axes>"
            ]
          },
          "metadata": {
            "needs_background": "light"
          }
        }
      ]
    },
    {
      "cell_type": "markdown",
      "source": [
        "#Pre Processing\n",
        "\n",
        "It is extremely useful to preprocess data before training the algorithm. The LSTM is sensible to data that is not between 0 and 1 so we are going to use de **MinMax scaler** to pre-process data to form as an input for the LSTM\n",
        "\n",
        "**MinMax scaler**\n",
        "\n",
        "A extremely useful technique to hve data between a range\n",
        "\n",
        "![minmax](https://i.stack.imgur.com/EuitP.png)\n"
      ],
      "metadata": {
        "id": "6VODlOGNcN6p"
      }
    },
    {
      "cell_type": "code",
      "metadata": {
        "colab": {
          "base_uri": "https://localhost:8080/"
        },
        "id": "6h8WXid2rRux",
        "outputId": "8aae5fef-ba64-4f08-895c-91ffb4c5f356"
      },
      "source": [
        "scaler=MinMaxScaler(feature_range=(0,1)) #From 0 to 1\n",
        "stock_price=scaler.fit_transform(np.array(stock_price).reshape(-1,1))\n",
        "stock_price[:10]"
      ],
      "execution_count": 26,
      "outputs": [
        {
          "output_type": "execute_result",
          "data": {
            "text/plain": [
              "array([[9.30551352e-05],\n",
              "       [2.34048161e-03],\n",
              "       [2.64784489e-03],\n",
              "       [1.37045109e-03],\n",
              "       [1.68909567e-03],\n",
              "       [2.22768797e-03],\n",
              "       [1.73139248e-03],\n",
              "       [5.63972535e-04],\n",
              "       [6.65487033e-04],\n",
              "       [6.76770481e-05]])"
            ]
          },
          "metadata": {},
          "execution_count": 26
        }
      ]
    },
    {
      "cell_type": "markdown",
      "source": [
        "Divide the data in to train set and test set. In this case we are not going to use dev set because the real data is the data is both in the test and train set"
      ],
      "metadata": {
        "id": "3QuE85rRdiP1"
      }
    },
    {
      "cell_type": "code",
      "source": [
        "training_size=int(len(stock_price)*0.75) #75% for training \n",
        "test_size=len(stock_price)-training_size #25% for testing\n",
        "train_data,test_data=stock_price[0:training_size,:],stock_price[training_size:len(stock_price),:1]\n",
        "training_size,test_size\n",
        "train_data"
      ],
      "metadata": {
        "colab": {
          "base_uri": "https://localhost:8080/"
        },
        "id": "ZHEzxdaPddVt",
        "outputId": "57a03a24-e809-4899-a360-426dbfc74507"
      },
      "execution_count": 28,
      "outputs": [
        {
          "output_type": "execute_result",
          "data": {
            "text/plain": [
              "array([[9.30551352e-05],\n",
              "       [2.34048161e-03],\n",
              "       [2.64784489e-03],\n",
              "       ...,\n",
              "       [4.14073339e-01],\n",
              "       [4.10692895e-01],\n",
              "       [4.11385875e-01]])"
            ]
          },
          "metadata": {},
          "execution_count": 28
        }
      ]
    },
    {
      "cell_type": "code",
      "metadata": {
        "id": "esFZ5-JCrRu-"
      },
      "source": [
        "time_step = 100\n",
        "X_train, y_train = create_dataset(train_data, time_step)\n",
        "X_test, ytest = create_dataset(test_data, time_step)"
      ],
      "execution_count": 47,
      "outputs": []
    },
    {
      "cell_type": "code",
      "metadata": {
        "colab": {
          "base_uri": "https://localhost:8080/"
        },
        "id": "tYVDSLb7rRvA",
        "outputId": "143cfe7e-68ca-4d17-ff44-0e0b40f79d00"
      },
      "source": [
        "print(X_train.shape), print(y_train.shape)\n",
        "print(X_test.shape), print(ytest.shape)\n",
        "\n",
        "# reshape input to be [samples, time steps, features] which is required for LSTM\n",
        "X_train =X_train.reshape(X_train.shape[0],X_train.shape[1] , 1)\n",
        "X_test = X_test.reshape(X_test.shape[0],X_test.shape[1] , 1)"
      ],
      "execution_count": 48,
      "outputs": [
        {
          "output_type": "stream",
          "name": "stdout",
          "text": [
            "(2990, 100)\n",
            "(2990,)\n",
            "(930, 100)\n",
            "(930,)\n"
          ]
        }
      ]
    },
    {
      "cell_type": "code",
      "metadata": {
        "id": "iHcLlyaVrRvH",
        "colab": {
          "base_uri": "https://localhost:8080/"
        },
        "outputId": "06434887-b797-4af2-a152-197c75cab23f"
      },
      "source": [
        "model=Sequential()\n",
        "model.add(LSTM(10,return_sequences=True,input_shape=(100,1)))\n",
        "model.add(LSTM(10,return_sequences=True))\n",
        "model.add(LSTM(10))\n",
        "model.add(Dense(1))\n",
        "model.compile(loss='mean_squared_error',optimizer='adam')\n",
        "model.summary()"
      ],
      "execution_count": 54,
      "outputs": [
        {
          "output_type": "stream",
          "name": "stdout",
          "text": [
            "Model: \"sequential_6\"\n",
            "_________________________________________________________________\n",
            " Layer (type)                Output Shape              Param #   \n",
            "=================================================================\n",
            " lstm_18 (LSTM)              (None, 100, 10)           480       \n",
            "                                                                 \n",
            " lstm_19 (LSTM)              (None, 100, 10)           840       \n",
            "                                                                 \n",
            " lstm_20 (LSTM)              (None, 10)                840       \n",
            "                                                                 \n",
            " dense_6 (Dense)             (None, 1)                 11        \n",
            "                                                                 \n",
            "=================================================================\n",
            "Total params: 2,171\n",
            "Trainable params: 2,171\n",
            "Non-trainable params: 0\n",
            "_________________________________________________________________\n"
          ]
        }
      ]
    },
    {
      "cell_type": "code",
      "metadata": {
        "colab": {
          "base_uri": "https://localhost:8080/"
        },
        "id": "mxUYjxR0rRvS",
        "outputId": "956f4b57-934a-4354-a732-4a4d58037dd6"
      },
      "source": [
        "model.fit(X_train,y_train,validation_data=(X_test,ytest),epochs=10,batch_size=64,verbose=1)"
      ],
      "execution_count": 55,
      "outputs": [
        {
          "output_type": "stream",
          "name": "stdout",
          "text": [
            "Epoch 1/10\n",
            "47/47 [==============================] - 10s 118ms/step - loss: 0.0067 - val_loss: 0.0024\n",
            "Epoch 2/10\n",
            "47/47 [==============================] - 8s 173ms/step - loss: 2.2310e-04 - val_loss: 0.0031\n",
            "Epoch 3/10\n",
            "47/47 [==============================] - 6s 127ms/step - loss: 1.5224e-04 - val_loss: 0.0039\n",
            "Epoch 4/10\n",
            "47/47 [==============================] - 4s 90ms/step - loss: 1.3505e-04 - val_loss: 0.0058\n",
            "Epoch 5/10\n",
            "47/47 [==============================] - 4s 92ms/step - loss: 1.2842e-04 - val_loss: 0.0067\n",
            "Epoch 6/10\n",
            "47/47 [==============================] - 6s 122ms/step - loss: 1.2060e-04 - val_loss: 0.0072\n",
            "Epoch 7/10\n",
            "47/47 [==============================] - 4s 90ms/step - loss: 1.1978e-04 - val_loss: 0.0075\n",
            "Epoch 8/10\n",
            "47/47 [==============================] - 5s 110ms/step - loss: 1.1581e-04 - val_loss: 0.0078\n",
            "Epoch 9/10\n",
            "47/47 [==============================] - 4s 86ms/step - loss: 1.1195e-04 - val_loss: 0.0070\n",
            "Epoch 10/10\n",
            "47/47 [==============================] - 6s 132ms/step - loss: 1.1035e-04 - val_loss: 0.0072\n"
          ]
        },
        {
          "output_type": "execute_result",
          "data": {
            "text/plain": [
              "<keras.callbacks.History at 0x7f481430c850>"
            ]
          },
          "metadata": {},
          "execution_count": 55
        }
      ]
    },
    {
      "cell_type": "markdown",
      "source": [
        "Test the performance using RMSE"
      ],
      "metadata": {
        "id": "lgGUjLw0oKzf"
      }
    },
    {
      "cell_type": "code",
      "metadata": {
        "colab": {
          "base_uri": "https://localhost:8080/"
        },
        "id": "jbB-aLLorRvU",
        "outputId": "3528fde5-8b07-423d-a257-4fdc2f6304fc"
      },
      "source": [
        "train_predict=model.predict(X_train)\n",
        "test_predict=model.predict(X_test)\n",
        "##We will transform again the data to lot it\n",
        "train_predict=scaler.inverse_transform(train_predict)\n",
        "test_predict=scaler.inverse_transform(test_predict)\n",
        "### Performance\n",
        "math.sqrt(mean_squared_error(y_train,train_predict))"
      ],
      "execution_count": 51,
      "outputs": [
        {
          "output_type": "execute_result",
          "data": {
            "text/plain": [
              "0.009513890554486712"
            ]
          },
          "metadata": {},
          "execution_count": 51
        }
      ]
    },
    {
      "cell_type": "code",
      "metadata": {
        "colab": {
          "base_uri": "https://localhost:8080/",
          "height": 409
        },
        "id": "TaNfj-SIrRvg",
        "outputId": "52640750-f3dc-4f0b-86ab-1c6778342cfa"
      },
      "source": [
        "look_back=100\n",
        "trainPredictPlot = np.empty_like(stock_price)\n",
        "trainPredictPlot[:, :] = np.nan\n",
        "trainPredictPlot[look_back:len(train_predict)+look_back, :] = train_predict\n",
        "testPredictPlot = np.empty_like(stock_price)\n",
        "testPredictPlot[:, :] = np.nan\n",
        "testPredictPlot[len(train_predict)+(look_back*2)+1:len(stock_price)-1, :] = test_predict\n",
        "\n",
        "plt.figure(figsize=(12,6))\n",
        "plt.plot(scaler.inverse_transform(stock_price), label = \"Stock Price\")\n",
        "plt.plot(trainPredictPlot, label = \"Train prediction\")\n",
        "plt.plot(testPredictPlot, label = \"Test prediction\")\n",
        "plt.title(\"Google stock price prediction\", fontsize = 16)\n",
        "plt.ylabel('$', fontsize=13)\n",
        "plt.xlabel('Time', fontsize=13)\n",
        "plt.legend()\n",
        "plt.show()"
      ],
      "execution_count": 58,
      "outputs": [
        {
          "output_type": "display_data",
          "data": {
            "image/png": "[encoded data removed]",
            "text/plain": [
              "<Figure size 864x432 with 1 Axes>"
            ]
          },
          "metadata": {
            "needs_background": "light"
          }
        }
      ]
    }
  ]
}